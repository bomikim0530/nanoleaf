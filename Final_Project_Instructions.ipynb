{
 "cells": [
  {
   "cell_type": "markdown",
   "metadata": {},
   "source": [
    "# INFO 206 Final Project\n",
    "\n",
    "This project is designed to\n",
    "\n",
    "- Develop your understanding of object-oriented design, as well as concepts like APIs, JSON, and the way that modern software is broken into components.\n",
    "- Give you experience working in a software team.\n",
    "- Prepare you to build software in advanced courses.\n",
    "\n",
    "We have procured a set of color-changing triangular tiles called Nanoleaf Panels (www.nanoleaf.me).  They come with an open API that allows a programmer to send messages that control the color displayed.\n",
    "\n",
    "For our purposes, we will think about each Nanoleaf panel as a tile in a board game.  In fact, we have invented a game, which we call Nano Thrones, that is played on exactly such a board of triangular tiles.  Your team will build software to bring this game to life!\n",
    "\n",
    "Your team has three main roles to fill that correspond to three major modules that do different things:\n",
    "\n",
    "**GameManager:**  The GameManager is responsible for implementing the rules of Nano Thrones.  It keeps track of who's turn it is, the current state of the board, when players are removed from the board or spawned back onto the board, and how many points each player has.  The GameManager communicates with the other two classes.\n",
    "\n",
    "**Strategist** The Strategist represents a player that participates in the game.  It includes the tactical logic for choosing which tile to move into, based on where all the other players are, what the board looks like, and so on.\n",
    "\n",
    "**Artist** The Artist is responsible for the visual representation of the game.  They control the color displayed by each tile.  Each player has a color, which the artist should generally use to show where that player has been.  However, the Artist may use different shades, hues, flashes, or other effects to express components of game play.  The Artist also handles the communication to the nanoleaf panels using their open API.\n",
    "\n",
    "### Team Organization\n",
    "\n",
    "We expect each player to take responsibility for one of the roles above.  However, you should also help each other and stay involved in all aspects of the code."
   ]
  },
  {
   "cell_type": "markdown",
   "metadata": {},
   "source": [
    "# The Rules of Nano Thrones\n",
    "----\n",
    "The game takes place on a board of triangular tiles.  Each player has a color and moves from tile to neighboring tile.  Every time a player lands on a new tile, that tile becomes the color of the player.  The objective is to keep as many tiles set to your color for as much time as possible.  However, there are restrictions on which tiles you can move to.  If you are ever left without a place to move, you will be removed from the board for a finite amount of time.\n",
    "\n",
    "## Setup\n",
    "\n",
    "At the start of the game, all tiles are white.  Three players are selected at random and placed onto three random tiles.  Each tile immediately becomes the color of the occupying player.  The rest of the tiles remain white.\n",
    "\n",
    "\n",
    "## Turn Mechanics\n",
    "\n",
    "After the setup, the game proceeds in turns.  The turns are passed from player to player in rotating order.  (For example, the order of turns could be red, blue, yellow, red, blue, yellow, red, and so on)\n",
    "\n",
    "During each turn, some tiles are considered \"Blocked\".  Specifically, if a player is currently in a tile, or was in the tile during their previous 2 turns, that tile is considered blocked.\n",
    "\n",
    "Each turn takes place in two stages.\n",
    "\n",
    "**1. Spawning.**  Spawning only occurs in two circumstances.  First, if there are less than 3 players on the board, a new player will spawn.  Second, if it has been 50 turns since the last time a player spawned, a new player will spawn, even if the number of players on the board becomes 4 or even more.\n",
    "\n",
    "The new player is taken from the players that are not on the board.  Players that have been off of the board for longer, spawn before players that have been off the board for less time.\n",
    "\n",
    "When a player spawns, they are placed onto a random unblocked tile, and that tile immediately becomes the color of the new player.  The new player will not take a turn, however, until all other players on the board have their next turn.\n",
    "\n",
    "**2. Moving.**  The player who's turn it is now chooses a tile to move to.  The player can only move to a neighboring tile.  A tile is neighboring if it shares a side with the tile the player is on.  It is not enough to share a corner.  A player cannot move into a tile that is blocked.\n",
    "\n",
    "If the player has no valid moves, they are ejected from the board.  Tiles that are that player's color remain their color, but they all immediately become unblocked.\n",
    "\n",
    "The player must make a move with 1/10 of a second.  If the player takes longer than this, they will also be ejected from the board.\n",
    "\n",
    "\n",
    "## Scoring\n",
    "\n",
    "At the end of each turn (after the spawning and moving phases), each player earns 1 point for every tile that has their color.  This includes blocked and unblocked tiles.  It includes the player who's turn it is and all other players.  Players even earn points if they are not on the board, as long as some tiles on the board remain their color.\n",
    "\n",
    "-----"
   ]
  },
  {
   "cell_type": "markdown",
   "metadata": {},
   "source": [
    "# The Nanoleaf API\n",
    "\n",
    "Nanoleaf panels include an API, which we will use to control the color of each panel.  The panels can create their own wifi network (or connect to an existing network) and they function on the network just like a web server.  Messages are passed to the panels using regular network protocols, such as HTTP.\n",
    "\n",
    "The Nanoleaf API is quite complicated - there are commands to change control modes, select among preset \"scenes,\" change hue and saturation, and so forth.  However, we will not be using most of this functionality.  Instead, we will take advantage of a specific feature called External Control mode (Streaming).  This allows you to send color information to the Nanoleaf panels as a stream of bytes over the network protocol known as UDP.\n",
    "\n",
    "The documentation for the Nanoleaf API is provided here (you will need to create an account to view it): https://forum.nanoleaf.me/docs/openapi  The section that is most important to you is Section 7.7. External Control (Streaming).\n",
    "\n",
    "We will provide you with the code you need to connect to the Nanoleaf panels, retrieve information about the layout of the panels, and enter External Control Mode.  Your team (and especially your Artist) will need to read the API documentation to understand what bytes to send to the panels to generate the colors you want.\n",
    "\n",
    "## The Nanoleaf Simulator\n",
    "\n",
    "While you are building your code, you will need to test things without access to actual Nanoleaf panels.  Fortunately, Nanoleaf has also provided you with a simulator, which runs on your local machine and behaves like the Nanoleaf panels in External Control Mode.\n",
    "\n",
    "The simulator requires that you install several software packages before it will run, and the installation procedure is prone to errors.  The packages can be seen in the file requirements.txt (go ahead and open it).\n",
    "\n",
    "If you have anaconda (or a similar package manager), our recommendation would be to install each package using a command like `conda install audioread`.  For packages that conda can't handle, try switching to `pip install audioread`.\n",
    "\n",
    "If you don't have anaconda, you can try using pip for all packages.  Nanoleaf provides the following instructions, which might work for you:\n",
    "\n",
    "> Install numpy:\n",
    ">\n",
    "> `pip install numpy`\n",
    ">\n",
    "> Install remaining packages:\n",
    ">\n",
    "> `pip install -r requirements.txt`\n",
    ">\n",
    "> If you encounter a 'portaudio.h' file not found error, try:\n",
    ">\n",
    "> `pip install --global-option='build_ext' --global-option='-I/usr/local/include' --global-option='-L/usr/local/lib' pyaudio`\n",
    ">\n",
    "> then repeat the previous step."
   ]
  },
  {
   "cell_type": "markdown",
   "metadata": {},
   "source": [
    "# Communication Between Software Components\n",
    "\n",
    "Your software will include three major components (or even more), and these components will need to pass information back and forth.  One very important task is sharing the current state of the game with all the objects that depend on it.  To do this, you have to agree on a single method for writing down the game state.  Think of it as an internal API.  (If you had a true microservices architecture, your three main objects would be separate programs running in separate environments, and they might pass messages over a network substrate.  But you'll just use function calls.) \n",
    "\n",
    "A really valuable exercise is to design a format to encode the game state together with your teammates.  For our course, however, we'll need all team's classes to interoperate, so we'll give you a format to use for encoding the game state.  You can find this in the framework code.  We will also give you a few key function headers, and we ask you not to change these."
   ]
  },
  {
   "cell_type": "markdown",
   "metadata": {},
   "source": [
    "# The Competition\n",
    "\n",
    "The final project will culminate in a Nano Thrones competition, pitting all teams against each other.  We will allow all teams to play the game against each other for several days, racking up as many points as they can.  Each team can only submit a single entry and cannot modify their entry after the competition begins.\n",
    "\n",
    "You will not know the layout of the board ahead of the competition.\n",
    "\n",
    "We will reveal the final scores from the competition on the last day of class."
   ]
  },
  {
   "cell_type": "markdown",
   "metadata": {},
   "source": [
    "# Evaluation\n",
    "\n",
    "- 60% Correctness of Code and Ability to Pass Validation Tests\n",
    "- 20% Code Style, Proper Commenting, and Best Practices\n",
    "- 10% Performance in Competition\n",
    "- 10% Visual Design of Color Patterns\n",
    "\n",
    "The grading criteria are designed with two goals in mind.  First, if your team manages to get your three classes operating together correctly, and follows good coding practices, you will earn a minimum of 80%.  This can be accomplished, for example, using a strategist that selects an unblocked neighboring tile at random, and an artist that represents each player with a uniform fixed color.\n",
    "\n",
    "Second, the last 20% of the grade are reserved for teams that strive beyond this baseline, and put substantial effort into designing a strategy and a visual design.  Competition points will be distributed according to the final score ranking.  The team with the most points will earn a full 10 points in this category; the team with the least points will earn 0.  The team with the middle rank will earn 5 points, and so on.\n",
    "\n",
    "Visual Design points will be awarded based on 1) whether the design captures the game play in a way that makes it understandable to the viewer 2) whether it includes creative or dynamic elements that capture the viewer's attention."
   ]
  },
  {
   "cell_type": "markdown",
   "metadata": {},
   "source": [
    "# Deliverables\n",
    "\n",
    "The following deliverables are due at the end of the project:\n",
    "\n",
    "- Oct 11, 11:00am - Submit a 200 word summary that explains your strategy for selecting moves (for a public-facing explanation of the project).\n",
    "- Oct 11, 10:00pm - All code must be submitted.\n",
    "- Oct 16, 11:00am - Prepare a (strictly) 5 minute slide presentation about your strategy and artistic design."
   ]
  },
  {
   "cell_type": "markdown",
   "metadata": {},
   "source": [
    "# Sharing\n",
    "\n",
    "Because we hope to keep this final project going in future years, we ask that you do not share your code and do not post it in any public forum (such as a public github repository).  However, when you are done you will have a useful codebase that you can use to create new nanoleaf visualizations.  We hope some of you will do so and use what you create in your personal portfolios."
   ]
  },
  {
   "cell_type": "markdown",
   "metadata": {},
   "source": [
    "# Tips on how to get started and proceed\n",
    "\n",
    "1. Even though the software package contains many files, there are mainly 3 files that your team will have to edit: manage.py, art.py and strategy.py. socket_connector.py contains helper code that you can use directly without making any changes to that file.\n",
    "\n",
    "2. Spend time on reading through the game instructions as well as the comments in those 3 files.\n",
    "\n",
    "3. Write pseudo code/ in plain english your thought process before you start coding. The code can get very messy very quickly (and harder to debug) if you do not plan it out.\n",
    "\n",
    "4. A good initial milestone could be to ensure that manager is able to interact with artist, strategy, game board etc. Having an end to end communication channel (from game board to manager/artist and vice-versa) is already a good win!\n",
    "\n",
    "5. Practising modularity will be useful: try to test your own functions through individual test cases. This has two fold benefits: (1) It will ensure your functions on their own are complete (2) The team can work in parallel on individual chunks and can integrate quickly once all pieces are coded. \n",
    "\n",
    "6. Work with the simulator first. Get all your logic working with the simulator. Connecting to the actual hardware is probably something that you can work on toward the end of the project.\n",
    "\n",
    "7. While you are required to implement the functionality for only one player, it might be a good idea to have at least two players (you could add a dummy player or replicate your own player as the second one) to test your player in a game setting where you will be surrounded by other players. It also gives you a chance to test game manager's validations\n",
    "\n",
    "8. **Most importantly, don't forget to have FUNN! We are aware that this project comes with an information (and may be jargon) overload, so we will have your back throughout the experience! We are really excited to join you in this learning process and can't wait to show off what you build ;)**\n",
    "\n",
    "<img src=\"https://res.cloudinary.com/teepublic/image/private/s--LtSCDBoI--/t_Preview/b_rgb:ffffff,c_limit,f_jpg,h_630,q_90,w_630/v1513962114/production/designs/2208831_1.jpg\">"
   ]
  },
  {
   "cell_type": "code",
   "execution_count": null,
   "metadata": {
    "collapsed": true
   },
   "outputs": [],
   "source": []
  }
 ],
 "metadata": {
  "kernelspec": {
   "display_name": "Python 3",
   "language": "python",
   "name": "python3"
  },
  "language_info": {
   "codemirror_mode": {
    "name": "ipython",
    "version": 3
   },
   "file_extension": ".py",
   "mimetype": "text/x-python",
   "name": "python",
   "nbconvert_exporter": "python",
   "pygments_lexer": "ipython3",
   "version": "3.6.1"
  }
 },
 "nbformat": 4,
 "nbformat_minor": 2
}
