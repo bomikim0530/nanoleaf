{
 "cells": [
  {
   "cell_type": "markdown",
   "metadata": {},
   "source": [
    "### Nano Thrones Project\n",
    "\n",
    "#### Before running code make sure that your simulator is running\n",
    "Open a separate command prompt. Make sure you are in the NanoThrones-StudentVersion directory and run the simulator with\n",
    "\n",
    "python LightPanelsSimulator/py3/light-panels-simulator.py\n",
    "\n",
    "You should see a python simulation with a panel setup in a different window.\n",
    "\n",
    "Then execute the cell below."
   ]
  },
  {
   "cell_type": "code",
   "execution_count": 3,
   "metadata": {},
   "outputs": [
    {
     "name": "stdout",
     "output_type": "stream",
     "text": [
      "{'layout': {'numPanels': 9, 'sideLength': 150, 'positionData': [{'panelId': 1, 'x': 0, 'y': 0, 'o': 0}, {'panelId': 2, 'x': 75, 'y': 43, 'o': 60}, {'panelId': 3, 'x': 0, 'y': -87, 'o': 60}, {'panelId': 4, 'x': 75, 'y': -130, 'o': 0}, {'panelId': 5, 'x': 75, 'y': 130, 'o': 0}, {'panelId': 6, 'x': 0, 'y': 173, 'o': 60}, {'panelId': 7, 'x': 0, 'y': 260, 'o': 0}, {'panelId': 8, 'x': 75, 'y': -217, 'o': 60}, {'panelId': 9, 'x': -75, 'y': 303, 'o': 60}]}, 'globalOrientation': {'value': 0, 'max': 360, 'min': 0}}\n"
     ]
    }
   ],
   "source": [
    "import json\n",
    "from socket_connector import PanelConnector\n",
    "#########################\n",
    "\n",
    "\n",
    "# This api gets panel data such as panel layout, number of panels etc\n",
    "# Hint: Print layout to understand the data before moving on\n",
    "\n",
    "layout = PanelConnector().get_panel_layout().json()\n",
    "\n",
    "######################################\n",
    "\n",
    "## Power skill: You are the only one that communicates with the artist and strategist\n",
    "## and you have complete awareness of the game state at any point of time\n",
    "\n",
    "\n",
    "####################################\n",
    "\n",
    "## Recommended things to consider as the game manager:\n",
    "\n",
    "# 1. Make sure that the initial game state (at the start of the game) is such that no panel is blocked\n",
    "# 2. Integrate players (classes) imported from strategy.py\n",
    "# 3. The game starts with 3 players randomly (see detailed instructions) in the project manaual, so initialize the game state accordingly\n",
    "# 4. You want to maintain a score board to keep track of every player's score throughout the game\n",
    "# 5. Account for scenarios such as blocked players, when it's time to spawn a new player etc. Your validations will help test for corner cases\n",
    "# which is critical for your team to be prepared for the real game of Nano Thrones!\n",
    "# 6. Since you are the only one interfacing with the artist and strategist, don't remember to communicate with them whenever required!\n",
    "\n",
    "#### *** IT IS EXTREMELEY CRITICAL FOR YOU TO USE THE SAME FORMAT AS DEFINED BELOW FOR GAME_STATE\n",
    "#### OTHERWISE, YOUR TEAM WILL NOT ABLE TO SURVIVE THE COMPLEXITIES OF THE BATTLE OF NANO THROMES IN THE ACTUAL COMPETITION***\n",
    "### EXPECTED GAME STATE FORMAT:\n",
    "\n",
    "game_state = {\n",
    "    'current_position': { \n",
    "        'red': 0, \n",
    "        'blue': 2, \n",
    "        'green': None\n",
    "    },\n",
    "    'panel': {\n",
    "        1: {'color': 'red', 'age': 0}, \n",
    "        2: {'color': 'blue', 'age': 4}, \n",
    "        3: {'color': 'white', 'age': 6}\n",
    "    }\n",
    "}\n",
    "\n",
    "\n",
    "# game_state object keeps track of the current positions of active players\n",
    "# as well as every panel's current occupant\n",
    "## The above example is for a game with 3 panels. The current position dictionary\n",
    "## keeps track of the current position of active players. In this example, red is on panel 0, blue is on panel 2 and green has been kicked out (None)\n",
    "## The panel dictionary indicates the attributes for every panel. Panel 1 is currently occupied by red with age 0 (just occupied!), panel 2 by blue with age 4 and panel 3 is free\n",
    "## Age indicates number of turns before a new player occupied the panel. So, it has been 6 turns since panel was occupied by any player\n",
    "## The number of panels can (and will) change in the real battle and the number of players is variable too (capped to a minimum of 3 players)\n",
    "## Game state should ideally change after every move but the format should remain the same\n",
    "\n",
    "#############################\n"
   ]
  },
  {
   "cell_type": "code",
   "execution_count": null,
   "metadata": {
    "collapsed": true
   },
   "outputs": [],
   "source": []
  }
 ],
 "metadata": {
  "kernelspec": {
   "display_name": "Python 3",
   "language": "python",
   "name": "python3"
  },
  "language_info": {
   "codemirror_mode": {
    "name": "ipython",
    "version": 3
   },
   "file_extension": ".py",
   "mimetype": "text/x-python",
   "name": "python",
   "nbconvert_exporter": "python",
   "pygments_lexer": "ipython3",
   "version": "3.6.2"
  }
 },
 "nbformat": 4,
 "nbformat_minor": 2
}
